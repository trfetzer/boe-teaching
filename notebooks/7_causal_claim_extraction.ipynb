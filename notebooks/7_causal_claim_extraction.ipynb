{
  "cells": [
    {
      "cell_type": "markdown",
      "metadata": {},
      "source": "# Causal Claim Extraction from Large Document\n\n**Purpose**: Demonstrate extracting cause-effect statements from a large text using an LLM.\n\n**Dependencies**: `openai`, `json`\n"
    },
    {
      "cell_type": "code",
      "metadata": {},
      "source": "import textwrap\nimport json\nfrom openai import OpenAI\nclient = OpenAI(base_url=\"http://localhost:11434/v1\", api_key=\"ollama\")"
    },
    {
      "cell_type": "code",
      "metadata": {},
      "source": "large_text = textwrap.dedent('''\nClimate change increases global temperatures. As a result, ice caps melt. This leads to sea level rise.\nMore storms cause flooding in coastal regions.\n''')"
    },
    {
      "cell_type": "code",
      "metadata": {},
      "source": "def extract_claims(text):\n    prompt = f\"Extract cause-effect pairs from the text and return JSON. Text: {text}\"\n    messages = [{\"role\": \"user\", \"content\": prompt}]\n    response = client.chat.completions.create(model=\"llama3:70b:128k\", messages=messages)\n    return json.loads(response.choices[0].message.content)"
    },
    {
      "cell_type": "code",
      "metadata": {},
      "source": "claims = extract_claims(large_text)\nfor c in claims:\n    print(c['cause'], '->', c['effect'])"
    }
  ],
  "metadata": {
    "kernelspec": {
      "display_name": "Python 3",
      "language": "python",
      "name": "python3"
    },
    "language_info": {
      "name": "python"
    }
  },
  "nbformat": 4,
  "nbformat_minor": 5
}
