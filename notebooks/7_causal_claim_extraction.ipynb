{
 "cells": [
  {
   "cell_type": "markdown",
   "metadata": {},
   "source": "# Causal Claim Extraction from Large Document\n\n**Purpose**: Demonstrate extracting cause-effect statements from a large text using an LLM.\n\n**Dependencies**: `requests`, `json`\n"
  },
  {
   "cell_type": "code",
   "metadata": {},
   "source": "import textwrap\nimport requests\nimport json\n\nsimulate = True"
  },
  {
   "cell_type": "code",
   "metadata": {},
   "source": "large_text = textwrap.dedent('''\nClimate change increases global temperatures. As a result, ice caps melt. This leads to sea level rise.\nMore storms cause flooding in coastal regions.\n''')"
  },
  {
   "cell_type": "code",
   "metadata": {},
   "source": "def extract_claims(text):\n    if simulate:\n        return [{'cause': 'Climate change increases global temperatures', 'effect': 'ice caps melt'},\n                {'cause': 'ice caps melt', 'effect': 'sea level rise'},\n                {'cause': 'More storms', 'effect': 'flooding in coastal regions'}]\n    prompt = f'Extract cause-effect pairs from the text and return JSON. Text: {text}'\n    payload = {'model': 'llama3:70b:128k', 'prompt': prompt}\n    r = requests.post('http://localhost:11434/api/generate', json=payload)\n    r.raise_for_status()\n    return json.loads(r.json()['response'])"
  },
  {
   "cell_type": "code",
   "metadata": {},
   "source": "claims = extract_claims(large_text)\nfor c in claims:\n    print(c['cause'], '->', c['effect'])"
  }
 ],
 "metadata": {
  "kernelspec": {
   "display_name": "Python 3",
   "language": "python",
   "name": "python3"
  },
  "language_info": {
   "name": "python"
  }
 },
 "nbformat": 4,
 "nbformat_minor": 5
}
