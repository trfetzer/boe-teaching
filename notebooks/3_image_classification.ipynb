{
 "cells": [
  {
   "cell_type": "markdown",
   "metadata": {},
   "source": "# Image Classification: Count and Gender Detection\n\n**Purpose**: Use a vision-enabled model to count people in an image and guess their gender.\n\n**Dependencies**: `requests`, `base64`\n"
  },
  {
   "cell_type": "code",
   "metadata": {},
   "source": "import base64\nimport requests\n\nsimulate = True"
  },
  {
   "cell_type": "code",
   "metadata": {},
   "source": "# tiny 1x1 png just for demonstration\nimg_b64 = 'iVBORw0KGgoAAAANSUhEUgAAAAEAAAABCAQAAAC1HAwCAAAAC0lEQVR42mNkYAAAAAYAAjCB0C8AAAAASUVORK5CYII='"
  },
  {
   "cell_type": "code",
   "metadata": {},
   "source": "def analyze_image(image_b64, model='llava'):\n    if simulate:\n        return {'count': 1, 'gender': ['unknown']}\n    payload = {\n        'model': model,\n        'prompt': 'Count people and detect gender',\n        'images': [image_b64]\n    }\n    r = requests.post('http://localhost:11434/api/generate', json=payload)\n    r.raise_for_status()\n    return r.json()"
  },
  {
   "cell_type": "code",
   "metadata": {},
   "source": "result = analyze_image(img_b64)\nprint(result)"
  }
 ],
 "metadata": {
  "kernelspec": {
   "display_name": "Python 3",
   "language": "python",
   "name": "python3"
  },
  "language_info": {
   "name": "python"
  }
 },
 "nbformat": 4,
 "nbformat_minor": 5
}
