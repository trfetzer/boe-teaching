{
 "cells": [
  {
   "cell_type": "markdown",
   "metadata": {},
   "source": "# Structured Output Generation\n\n**Purpose**: Classify a news item into earthquake, flood, wildfire or other.\n\n**Dependencies**: `requests`, `pandas`, `json`\n"
  },
  {
   "cell_type": "code",
   "metadata": {},
   "source": "import pandas as pd\nimport requests\nimport json\n\nsimulate = True"
  },
  {
   "cell_type": "code",
   "metadata": {},
   "source": "data = [\n    {'headline': 'Earthquake shakes city', 'body': 'A moderate earthquake was felt.'},\n    {'headline': 'Heavy rain causes flooding', 'body': 'Rivers overflow in the north.'},\n    {'headline': 'Wildfire spreads quickly', 'body': 'Dry winds cause rapid fire growth.'}\n]\ndf = pd.DataFrame(data)\ndf"
  },
  {
   "cell_type": "code",
   "metadata": {},
   "source": "def classify(text):\n    if simulate:\n        if 'earthquake' in text.lower():\n            return 'earthquake'\n        if 'flood' in text.lower() or 'rain' in text.lower():\n            return 'flood'\n        if 'wildfire' in text.lower():\n            return 'wildfire'\n        return 'other'\n    prompt = f'Classify the following text into earthquake, flood, wildfire or other and return JSON: {text}'\n    payload = {'model': 'llama3', 'prompt': prompt}\n    r = requests.post('http://localhost:11434/api/generate', json=payload)\n    r.raise_for_status()\n    return json.loads(r.json()['response'])['label']"
  },
  {
   "cell_type": "code",
   "metadata": {},
   "source": "df['label'] = df['body'].apply(classify)\ndf"
  }
 ],
 "metadata": {
  "kernelspec": {
   "display_name": "Python 3",
   "language": "python",
   "name": "python3"
  },
  "language_info": {
   "name": "python"
  }
 },
 "nbformat": 4,
 "nbformat_minor": 5
}
