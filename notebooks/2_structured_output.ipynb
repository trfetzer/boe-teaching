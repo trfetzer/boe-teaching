{
 "cells": [
  {
   "cell_type": "markdown",
   "metadata": {},
   "source": "# Structured Output Generation\n\n**Purpose**: Classify a news item into earthquake, flood, wildfire or other.\n\n**Dependencies**: `openai`, `pandas`, `json`\n"
  },
  {
   "cell_type": "code",
   "metadata": {},
   "source": "import pandas as pd\nimport json\nfrom openai import OpenAI\nclient = OpenAI(base_url=\"http://0.0.0.0:11434/v1\", api_key=\"ollama\")"
  },
  {
   "cell_type": "code",
   "metadata": {},
   "source": "data = [\n    {'headline': 'Earthquake shakes city', 'body': 'A moderate earthquake was felt.'},\n    {'headline': 'Heavy rain causes flooding', 'body': 'Rivers overflow in the north.'},\n    {'headline': 'Wildfire spreads quickly', 'body': 'Dry winds cause rapid fire growth.'}\n]\ndf = pd.DataFrame(data)\ndf"
  },
  {
   "cell_type": "code",
   "metadata": {},
   "source": "def classify(text):\n    prompt = f'Classify the following text into earthquake, flood, wildfire or other and return JSON: {text}'\n    messages = [{\"role\": \"user\", \"content\": prompt}]\n    response = client.chat.completions.create(model=\"phi4-mini:latest\", messages=messages)\n    return json.loads(response.choices[0].message.content.strip())[\"label\"]"
  },
  {
   "cell_type": "code",
   "metadata": {},
   "source": "df['label'] = df['body'].apply(classify)\ndf"
  }
 ],
 "metadata": {
  "kernelspec": {
   "display_name": "Python 3",
   "language": "python",
   "name": "python3"
  },
  "language_info": {
   "name": "python"
  }
 },
 "nbformat": 4,
 "nbformat_minor": 5
}