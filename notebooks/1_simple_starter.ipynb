{
  "cells": [
    {
      "cell_type": "markdown",
      "metadata": {},
      "source": "# Simple Starter: Prompt/Question Answering via Ollama API\n\n**Purpose**: Show how to send a prompt to an LLM running via Ollama and get back text.\n\n**Dependencies**: `openai`\n"
    },
    {
      "cell_type": "code",
      "metadata": {},
      "source": "from openai import OpenAI\nclient = OpenAI(base_url=\"http://0.0.0.0:11434/v1\", api_key=\"ollama\")"
    },
    {
      "cell_type": "code",
      "metadata": {},
      "source": "def call_ollama(prompt, model=\"phi4-mini:latest\"):\n    messages = [{\"role\": \"user\", \"content\": prompt}]\n    response = client.chat.completions.create(model=model, messages=messages)\n    return {\"response\": response.choices[0].message.content.strip()}"
    },
    {
      "cell_type": "code",
      "metadata": {},
      "source": "prompt = 'What is the capital of France?'\nresult = call_ollama(prompt)\nprint('Answer:', result['response'])"
    }
  ],
  "metadata": {
    "kernelspec": {
      "display_name": "Python 3",
      "language": "python",
      "name": "python3"
    },
    "language_info": {
      "name": "python"
    }
  },
  "nbformat": 4,
  "nbformat_minor": 5
}
