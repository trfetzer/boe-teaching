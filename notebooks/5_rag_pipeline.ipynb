{
  "cells": [
    {
      "cell_type": "markdown",
      "metadata": {},
      "source": "# Retrieval Augmented Generation (RAG)\n\n**Purpose**: Simple semantic search over a tiny corpus then feed result to LLM.\n\n**Dependencies**: `openai`, `pandas`, `numpy`\n"
    },
    {
      "cell_type": "code",
      "metadata": {},
      "source": "import numpy as np\nimport pandas as pd\nfrom openai import OpenAI\nclient = OpenAI(base_url=\"http://0.0.0.0:11434/v1\", api_key=\"ollama\")"
    },
    {
      "cell_type": "code",
      "metadata": {},
      "source": "docs = [\n    'The earthquake caused major damage.',\n    'Floods destroyed crops in the valley.',\n    'Wildfires spread due to strong winds.'\n]\ndf = pd.DataFrame({'text': docs})\ndf"
    },
    {
      "cell_type": "code",
      "metadata": {},
      "source": "def embed(text):\n    response = client.embeddings.create(model=\"mxbai-embed-large\", input=text)\n    return np.array(response.data[0].embedding)"
    },
    {
      "cell_type": "code",
      "metadata": {},
      "source": "embeddings = np.vstack([embed(t) for t in df['text']])\nembeddings"
    },
    {
      "cell_type": "code",
      "metadata": {},
      "source": "query = 'What disaster damaged crops?'\nq_vec = embed(query)\nscores = embeddings @ q_vec\nidx = scores.argmax()\ncontext = df['text'][idx]\ncontext"
    },
    {
      "cell_type": "code",
      "metadata": {},
      "source": "def answer_with_context(question, context):\n    prompt = f\"{context}\nQuestion: {question}\nAnswer:\"\n    messages = [{\"role\": \"user\", \"content\": prompt}]\n    response = client.chat.completions.create(model=\"phi4-mini:latest\", messages=messages)\n    return {\"response\": response.choices[0].message.content.strip()}"
    },
    {
      "cell_type": "code",
      "metadata": {},
      "source": "result = answer_with_context(query, context)\nprint(result['response'])"
    }
  ],
  "metadata": {
    "kernelspec": {
      "display_name": "Python 3",
      "language": "python",
      "name": "python3"
    },
    "language_info": {
      "name": "python"
    }
  },
  "nbformat": 4,
  "nbformat_minor": 5
}
