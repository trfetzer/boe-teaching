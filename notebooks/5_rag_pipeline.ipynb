{
 "cells": [
  {
   "cell_type": "markdown",
   "metadata": {},
   "source": "# Retrieval Augmented Generation (RAG)\n\n**Purpose**: Simple semantic search over a tiny corpus then feed result to LLM.\n\n**Dependencies**: `requests`, `pandas`, `numpy`\n"
  },
  {
   "cell_type": "code",
   "metadata": {},
   "source": "import numpy as np\nimport pandas as pd\nimport requests\n\nsimulate = True"
  },
  {
   "cell_type": "code",
   "metadata": {},
   "source": "docs = [\n    'The earthquake caused major damage.',\n    'Floods destroyed crops in the valley.',\n    'Wildfires spread due to strong winds.'\n]\ndf = pd.DataFrame({'text': docs})\ndf"
  },
  {
   "cell_type": "code",
   "metadata": {},
   "source": "def embed(text):\n    if simulate:\n        return np.random.rand(3)\n    payload = {'model': 'mxbai-embed-large', 'prompt': text}\n    r = requests.post('http://localhost:11434/api/embeddings', json=payload)\n    r.raise_for_status()\n    return np.array(r.json()['embedding'])"
  },
  {
   "cell_type": "code",
   "metadata": {},
   "source": "embeddings = np.vstack([embed(t) for t in df['text']])\nembeddings"
  },
  {
   "cell_type": "code",
   "metadata": {},
   "source": "query = 'What disaster damaged crops?'\nq_vec = embed(query)\nscores = embeddings @ q_vec\nidx = scores.argmax()\ncontext = df['text'][idx]\ncontext"
  },
  {
   "cell_type": "code",
   "metadata": {},
   "source": "def answer_with_context(question, context):\n    if simulate:\n        return {'response': f'{context} Therefore: floods damaged crops.'}\n    prompt = f'{context}\nQuestion: {question}\nAnswer:'\n    payload = {'model': 'llama3', 'prompt': prompt}\n    r = requests.post('http://localhost:11434/api/generate', json=payload)\n    r.raise_for_status()\n    return r.json()"
  },
  {
   "cell_type": "code",
   "metadata": {},
   "source": "result = answer_with_context(query, context)\nprint(result['response'])"
  }
 ],
 "metadata": {
  "kernelspec": {
   "display_name": "Python 3",
   "language": "python",
   "name": "python3"
  },
  "language_info": {
   "name": "python"
  }
 },
 "nbformat": 4,
 "nbformat_minor": 5
}
