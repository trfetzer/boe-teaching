{
 "cells": [
  {
   "cell_type": "markdown",
   "metadata": {},
   "source": "# Synthetic Data Generation and Classifier Training\n\n**Purpose**: Generate labeled disaster data using an LLM, embed it and train a classifier.\n\n**Dependencies**: `requests`, `pandas`, `numpy`, `sklearn`\n"
  },
  {
   "cell_type": "code",
   "metadata": {},
   "source": "import pandas as pd\nimport numpy as np\nimport requests\nfrom sklearn.linear_model import LogisticRegression\n\nsimulate = True"
  },
  {
   "cell_type": "code",
   "metadata": {},
   "source": "def generate_synthetic(n=5):\n    if simulate:\n        types = ['earthquake','flood','wildfire','other']\n        data = []\n        for i in range(n):\n            label = types[i % 4]\n            data.append({'text': f'sample {label} report', 'label': label})\n        return pd.DataFrame(data)\n    prompt = f'Generate {n} fake disaster news items labeled.'\n    payload = {'model': 'llama3', 'prompt': prompt}\n    r = requests.post('http://localhost:11434/api/generate', json=payload)\n    r.raise_for_status()\n    # parse JSON here\n    return pd.read_json(r.json()['response'])"
  },
  {
   "cell_type": "code",
   "metadata": {},
   "source": "def embed(text):\n    if simulate:\n        return np.random.rand(3)\n    payload = {'model': 'mxbai-embed-large', 'prompt': text}\n    r = requests.post('http://localhost:11434/api/embeddings', json=payload)\n    r.raise_for_status()\n    return np.array(r.json()['embedding'])"
  },
  {
   "cell_type": "code",
   "metadata": {},
   "source": "df = generate_synthetic(8)\nX = np.vstack([embed(t) for t in df['text']])\ny = df['label']\nclf = LogisticRegression().fit(X, y)\nprint('Classes:', clf.classes_)"
  }
 ],
 "metadata": {
  "kernelspec": {
   "display_name": "Python 3",
   "language": "python",
   "name": "python3"
  },
  "language_info": {
   "name": "python"
  }
 },
 "nbformat": 4,
 "nbformat_minor": 5
}
