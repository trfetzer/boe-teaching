{
  "cells": [
    {
      "cell_type": "markdown",
      "metadata": {},
      "source": "# Synthetic Data Generation and Classifier Training\n\n**Purpose**: Generate labeled disaster data using an LLM, embed it and train a classifier.\n\n**Dependencies**: `openai`, `pandas`, `numpy`, `sklearn`\n"
    },
    {
      "cell_type": "code",
      "metadata": {},
      "source": "import pandas as pd\nimport numpy as np\nfrom openai import OpenAI\nfrom sklearn.linear_model import LogisticRegression\nclient = OpenAI(base_url=\"http://localhost:11434/v1\", api_key=\"ollama\")"
    },
    {
      "cell_type": "code",
      "metadata": {},
      "source": "def generate_synthetic(n=5):\n    prompt = f\"Generate {n} fake disaster news items labeled.\"\n    messages = [{\"role\": \"user\", \"content\": prompt}]\n    response = client.chat.completions.create(model=\"phi4-mini:latest\", messages=messages)\n    return pd.read_json(response.choices[0].message.content)"
    },
    {
      "cell_type": "code",
      "metadata": {},
      "source": "def embed(text):\n    response = client.embeddings.create(model=\"mxbai-embed-large\", input=text)\n    return np.array(response.data[0].embedding)"
    },
    {
      "cell_type": "code",
      "metadata": {},
      "source": "df = generate_synthetic(8)\nX = np.vstack([embed(t) for t in df['text']])\ny = df['label']\nclf = LogisticRegression().fit(X, y)\nprint('Classes:', clf.classes_)"
    }
  ],
  "metadata": {
    "kernelspec": {
      "display_name": "Python 3",
      "language": "python",
      "name": "python3"
    },
    "language_info": {
      "name": "python"
    }
  },
  "nbformat": 4,
  "nbformat_minor": 5
}
