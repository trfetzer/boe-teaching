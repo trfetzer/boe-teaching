{
 "cells": [
  {
   "cell_type": "markdown",
   "metadata": {},
   "source": "# Disaster Retrieval and Classification\n\n**Purpose**: Minimal example retrieving the closest disaster description and classifying it using an Ollama model."
  },
  {
   "cell_type": "code",
   "metadata": {},
   "source": "import pandas as pd\nimport numpy as np\nimport requests\nfrom pydantic import BaseModel\nfrom typing import Literal\n\nsimulate = True"
  },
  {
   "cell_type": "code",
   "metadata": {},
   "source": "df = pd.read_csv('disaster-examples.csv')\ndf.head()"
  },
  {
   "cell_type": "code",
   "metadata": {},
   "source": "def embed(text):\n    if simulate:\n        np.random.seed(abs(hash(text)) % (2**32))\n        return np.random.rand(3)\n    payload = {'model': 'mxbai-embed-large', 'prompt': text}\n    r = requests.post('http://localhost:11434/api/embeddings', json=payload)\n    r.raise_for_status()\n    return np.array(r.json()['embedding'])"
  },
  {
   "cell_type": "code",
   "metadata": {},
   "source": "embeddings = np.vstack([embed(t) for t in df['description_en']])"
  },
  {
   "cell_type": "code",
   "metadata": {},
   "source": "class DisasterLabel(BaseModel):\n    type: Literal['earthquake','flood','drought','wildfire','hurricane','other']"
  },
  {
   "cell_type": "code",
   "metadata": {},
   "source": "def build_prompt(text):\n    return f'Evaluate the disaster type of this description and respond with JSON like {{\"type\": \"flood\"}}: {text}'"
  },
  {
   "cell_type": "code",
   "metadata": {},
   "source": "def classify(text):\n    if simulate:\n        t = text.lower()\n        if 'earthquake' in t: return {'type':'earthquake'}\n        if 'flood' in t: return {'type':'flood'}\n        if 'drought' in t: return {'type':'drought'}\n        if 'fire' in t: return {'type':'wildfire'}\n        if 'hurricane' in t: return {'type':'hurricane'}\n        return {'type':'other'}\n    payload = {'model': 'llama3', 'prompt': build_prompt(text)}\n    r = requests.post('http://localhost:11434/api/generate', json=payload)\n    r.raise_for_status()\n    return DisasterLabel.model_validate_json(r.json()['response']).model_dump()"
  },
  {
   "cell_type": "code",
   "metadata": {},
   "source": "def ask(question):\n    q_vec = embed(question)\n    scores = embeddings @ q_vec\n    idx = scores.argmax()\n    context = df.loc[idx, 'description_en']\n    label = classify(context)\n    return context, label"
  },
  {
   "cell_type": "code",
   "metadata": {},
   "source": "context, label = ask('What happened last year?')\nprint('Nearest description:', context)\nprint('Predicted label:', label)"
  }
 ],
 "metadata": {
  "kernelspec": {
   "display_name": "Python 3",
   "language": "python",
   "name": "python3"
  },
  "language_info": {
   "name": "python"
  }
 },
 "nbformat": 4,
 "nbformat_minor": 5
}